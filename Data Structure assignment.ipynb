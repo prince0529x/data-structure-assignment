{
 "cells": [
  {
   "cell_type": "markdown",
   "id": "c7371a70-a71a-4719-928d-4d1b992efab6",
   "metadata": {},
   "source": [
    "#### Data Types and Structures Questions"
   ]
  },
  {
   "cell_type": "markdown",
   "id": "06224907-2d50-4a95-93a4-a4bbc5998d83",
   "metadata": {},
   "source": [
    "1. What are data structures, and why are they important?\n",
    "  \n",
    "ANS:-Data structures organize and store data efficiently; they are important for improving code performance and enabling faster data access.\n",
    "\n",
    "\n",
    "\n",
    "2. Explain the difference between mutable and immutable data types with examples.\n",
    "\n",
    "ANS:-Mutable types (like lists) can be changed after creation; immutable types (like tuples and strings) cannot.\n",
    "\n",
    "\n",
    "\n",
    "3. What are the main differences between lists and tuples in Python?\n",
    "\n",
    "ANS:-Lists are mutable and use square brackets []; tuples are immutable and use parentheses ().\n",
    "\n",
    "\n",
    "\n",
    "4. Describe how dictionaries store data.\n",
    "\n",
    "ANS:-Dictionaries store data as key-value pairs using a hash table for fast lookup.\n",
    "\n",
    "\n",
    "\n",
    "5. Why might you use a set instead of a list in Python?\n",
    "\n",
    "ANS:-Sets automatically remove duplicates and allow fast membership testing.\n",
    "\n",
    "\n",
    "\n",
    "6. What is a string in Python, and how is it different from a list?\n",
    "\n",
    "ANS:-A string is an immutable sequence of characters, while a list is a mutable sequence that can hold various data types.\n",
    "\n",
    "\n",
    "\n",
    "7. How do tuples ensure data integrity in Python?\n",
    "\n",
    "ANS:-Tuples are immutable, which means their data can't be changed, ensuring consistency.\n",
    "\n",
    "\n",
    "\n",
    "8. How do tuples ensure data integrity in Python?\n",
    "\n",
    "ANS:-Tuples are immutable, which means their data can't be changed, ensuring consistency.\n",
    "\n",
    "\n",
    "\n",
    "9. Can lists contain different data types in Python?\n",
    "\n",
    "ANS:-Yes, lists can hold elements of mixed data types like integers, strings, and even other lists.\n",
    "\n",
    "\n",
    "\n",
    "10. Explain why strings are immutable in Python.\n",
    "\n",
    "ANS:-Strings are immutable to ensure memory efficiency and security, especially during string sharing and hashing.\n",
    "\n",
    "\n",
    "\n",
    "11. What advantages do dictionaries offer over lists for certain tasks?\n",
    "\n",
    "ANS:-Dictionaries allow fast, direct access to values using keys, which is more efficient than searching in lists.\n",
    "\n",
    "\n",
    "\n",
    "12. Describe a scenario where using a tuple would be preferable over a list.\n",
    "\n",
    "ANS:-Use a tuple to store fixed data like coordinates (x, y) that shouldn't be modified.\n",
    "\n",
    "\n",
    "\n",
    "13. How do sets handle duplicate values in Python?\n",
    "\n",
    "ANS:-Sets automatically eliminate duplicate entries, keeping only unique elements.\n",
    "\n",
    "\n",
    "\n",
    "14. How does the “in” keyword work differently for lists and dictionaries?\n",
    "\n",
    "ANS:-In lists, it checks for values; in dictionaries, it checks for keys.\n",
    "\n",
    "\n",
    "\n",
    "15. Can you modify the elements of a tuple? Explain why or why not.\n",
    "\n",
    "ANS:-No, tuples are immutable, so their contents cannot be changed after creation.\n",
    "\n",
    "\n",
    "\n",
    "16. What is a nested dictionary, and give an example of its use case.\n",
    "\n",
    "ANS:-A nested dictionary contains other dictionaries as values, useful for storing hierarchical data like user profiles.\n",
    "\n",
    "\n",
    "\n",
    "17. Describe the time complexity of accessing elements in a dictionary.\n",
    "\n",
    "ANS:-Dictionary access has average time complexity of O(1) due to hashing.\n",
    "\n",
    "\n",
    "\n",
    "18. In what situations are lists preferred over dictionaries?\n",
    "\n",
    "ANS:-Lists are better for ordered data and when only values (not key-value pairs) need to be stored.\n",
    "\n",
    "\n",
    "\n",
    "19. Why are dictionaries considered unordered, and how does that affect data retrieval?\n",
    "\n",
    "ANS:-Dictionaries were unordered before Python 3.7; now they preserve insertion order, but access is still by key, not position.\n",
    "\n",
    "\n",
    "\n",
    "20. Explain the difference between a list and a dictionary in terms of data retrieval.\n",
    "\n",
    "ANS:-Lists use numeric indices to retrieve items; dictionaries use unique keys."
   ]
  },
  {
   "cell_type": "markdown",
   "id": "df86be52-6444-4f25-b749-370d3da3449f",
   "metadata": {},
   "source": [
    "####  Practical Questions"
   ]
  },
  {
   "cell_type": "code",
   "execution_count": 1,
   "id": "f89b8c27-680c-4750-9659-30b8eb53d5a4",
   "metadata": {},
   "outputs": [
    {
     "data": {
      "text/plain": [
       "'Prince'"
      ]
     },
     "execution_count": 1,
     "metadata": {},
     "output_type": "execute_result"
    }
   ],
   "source": [
    "#1. Write a code to create a string with your name and print it.\n",
    "name=\"Prince\"\n",
    "name"
   ]
  },
  {
   "cell_type": "code",
   "execution_count": 2,
   "id": "d8719740-3f53-4c82-b208-186f237a32c3",
   "metadata": {},
   "outputs": [
    {
     "data": {
      "text/plain": [
       "11"
      ]
     },
     "execution_count": 2,
     "metadata": {},
     "output_type": "execute_result"
    }
   ],
   "source": [
    "#2. Write a code to find the length of the string \"Hello World\".\n",
    "S=\"Hello World\"\n",
    "len(S)"
   ]
  },
  {
   "cell_type": "code",
   "execution_count": 6,
   "id": "c60eb2b0-0af6-4d74-b320-c9122a6932a7",
   "metadata": {},
   "outputs": [
    {
     "data": {
      "text/plain": [
       "'hon Programming'"
      ]
     },
     "execution_count": 6,
     "metadata": {},
     "output_type": "execute_result"
    }
   ],
   "source": [
    "#3.  Write a code to slice the first 3 characters from the string \"Python Programming\".\n",
    "S1=\"Python Programming\"\n",
    "S1[3:]"
   ]
  },
  {
   "cell_type": "code",
   "execution_count": 7,
   "id": "46ebe5eb-4879-48a2-8605-20c735c6cc8a",
   "metadata": {},
   "outputs": [
    {
     "data": {
      "text/plain": [
       "'HELLO'"
      ]
     },
     "execution_count": 7,
     "metadata": {},
     "output_type": "execute_result"
    }
   ],
   "source": [
    "#4. Write a code to convert the string \"hello\" to uppercase.\n",
    "S2=\"hello\"\n",
    "S2.upper()"
   ]
  },
  {
   "cell_type": "code",
   "execution_count": 8,
   "id": "a1954de0-f87b-48c1-aec0-a12a127ee296",
   "metadata": {},
   "outputs": [
    {
     "data": {
      "text/plain": [
       "'I like orange'"
      ]
     },
     "execution_count": 8,
     "metadata": {},
     "output_type": "execute_result"
    }
   ],
   "source": [
    "#5. Write a code to replace the word \"apple\" with \"orange\" in the string \"I like apple\".\n",
    "S3=\"I like apple\"\n",
    "S3.replace(\"apple\",\"orange\")"
   ]
  },
  {
   "cell_type": "code",
   "execution_count": 9,
   "id": "ab801dbd-05c8-49cb-ab13-241ea732426c",
   "metadata": {},
   "outputs": [
    {
     "name": "stdout",
     "output_type": "stream",
     "text": [
      "[1, 2, 3, 4, 5]\n"
     ]
    }
   ],
   "source": [
    "#6.  Write a code to create a list with numbers 1 to 5 and print it.\n",
    "L1=[1,2,3,4,5]\n",
    "print(L1)"
   ]
  },
  {
   "cell_type": "code",
   "execution_count": 7,
   "id": "fd2a458b-8bed-4044-9767-4c1e389a9dec",
   "metadata": {},
   "outputs": [
    {
     "data": {
      "text/plain": [
       "[1, 2, 3, 4, 10]"
      ]
     },
     "execution_count": 7,
     "metadata": {},
     "output_type": "execute_result"
    }
   ],
   "source": [
    "#7. Write a code to append the number 10 to the list [1, 2, 3, 4].\n",
    "L2=[1,2,3,4]\n",
    "L2.append(10)\n",
    "L2"
   ]
  },
  {
   "cell_type": "code",
   "execution_count": 6,
   "id": "43828ecd-a672-48cf-86f6-a44c6a9151b7",
   "metadata": {},
   "outputs": [
    {
     "data": {
      "text/plain": [
       "[1, 2, 4, 5]"
      ]
     },
     "execution_count": 6,
     "metadata": {},
     "output_type": "execute_result"
    }
   ],
   "source": [
    "#8. Write a code to remove the number 3 from the list [1, 2, 3, 4, 5].\n",
    "L3=[1,2,3,4,5]\n",
    "L3.remove(3)\n",
    "L3"
   ]
  },
  {
   "cell_type": "code",
   "execution_count": 8,
   "id": "76ffb68e-d7a4-41cc-a147-eb487d75c1f0",
   "metadata": {},
   "outputs": [
    {
     "data": {
      "text/plain": [
       "'b'"
      ]
     },
     "execution_count": 8,
     "metadata": {},
     "output_type": "execute_result"
    }
   ],
   "source": [
    "#9. Write a code to access the second element in the list ['a', 'b', 'c', 'd'].\n",
    "l=[\"a\",\"b\",\"c\",\"d\"]\n",
    "l[1]"
   ]
  },
  {
   "cell_type": "code",
   "execution_count": 10,
   "id": "a58a921b-4490-490c-887a-8b6cb1a57be5",
   "metadata": {},
   "outputs": [
    {
     "data": {
      "text/plain": [
       "[50, 40, 30, 20, 10]"
      ]
     },
     "execution_count": 10,
     "metadata": {},
     "output_type": "execute_result"
    }
   ],
   "source": [
    "#10. Write a code to reverse the list [10, 20, 30, 40, 50].\n",
    "l1=[10,20,30,40,50]\n",
    "l1[::-1]"
   ]
  },
  {
   "cell_type": "code",
   "execution_count": 11,
   "id": "ccff1ae0-01e0-4619-ae08-05a519e12f95",
   "metadata": {},
   "outputs": [
    {
     "name": "stdout",
     "output_type": "stream",
     "text": [
      "(100, 200, 300)\n"
     ]
    }
   ],
   "source": [
    "#11.  Write a code to create a tuple with the elements 100, 200, 300 and print it.\n",
    "T=(100,200,300)\n",
    "print(T)"
   ]
  },
  {
   "cell_type": "code",
   "execution_count": 12,
   "id": "24cba3c1-5b50-4838-b888-e513368abd3f",
   "metadata": {},
   "outputs": [
    {
     "data": {
      "text/plain": [
       "'blue'"
      ]
     },
     "execution_count": 12,
     "metadata": {},
     "output_type": "execute_result"
    }
   ],
   "source": [
    "#12. Write a code to access the second-to-last element of the tuple ('red', 'green', 'blue', 'yellow').\n",
    "T1=(\"red\",\"green\",\"blue\",\"yello\")\n",
    "T1[-2] #you can access it but you cannot change elements in a tuple because tuples are immutable in Python."
   ]
  },
  {
   "cell_type": "code",
   "execution_count": 13,
   "id": "1d9bd9ee-175b-412a-a2cc-1ad1aa2547cf",
   "metadata": {},
   "outputs": [
    {
     "data": {
      "text/plain": [
       "5"
      ]
     },
     "execution_count": 13,
     "metadata": {},
     "output_type": "execute_result"
    }
   ],
   "source": [
    "#13. Write a code to find the minimum number in the tuple (10, 20, 5, 15).\n",
    "T2=(10,20,5,15)\n",
    "min(T2)"
   ]
  },
  {
   "cell_type": "code",
   "execution_count": 16,
   "id": "6fda2952-bc4c-4f10-a022-189e5224d516",
   "metadata": {},
   "outputs": [
    {
     "data": {
      "text/plain": [
       "1"
      ]
     },
     "execution_count": 16,
     "metadata": {},
     "output_type": "execute_result"
    }
   ],
   "source": [
    "#14. Write a code to find the index of the element \"cat\" in the tuple ('dog', 'cat', 'rabbit').\n",
    "Animals=(\"dog\",\"cat\",\"rabbit\")\n",
    "Animals.index(\"cat\")"
   ]
  },
  {
   "cell_type": "code",
   "execution_count": 21,
   "id": "6063d640-1fca-4a2d-8cf9-656064f4fc57",
   "metadata": {},
   "outputs": [
    {
     "name": "stdout",
     "output_type": "stream",
     "text": [
      "it is in the fridge\n"
     ]
    }
   ],
   "source": [
    "#15. Write a code to create a tuple containing three different fruits and check if \"kiwi\" is in it.\n",
    "fruits_in_fridge=(\"apple\",\"kiwi\",\"mango\")\n",
    "if \"kiwi\" in fruits_in_fridge:\n",
    "    print(\"it is in the fridge\")\n",
    "else:\n",
    "    print(\"its not in the fridge\")"
   ]
  },
  {
   "cell_type": "code",
   "execution_count": 22,
   "id": "3d3021aa-f92d-42fd-abeb-8b076326d9fd",
   "metadata": {},
   "outputs": [
    {
     "name": "stdout",
     "output_type": "stream",
     "text": [
      "{'b', 'a', 'c'}\n"
     ]
    }
   ],
   "source": [
    "#16. Write a code to create a set with the elements 'a', 'b', 'c' and print it.\n",
    "set={\"a\",\"b\",\"c\"}\n",
    "print(set)"
   ]
  },
  {
   "cell_type": "code",
   "execution_count": 26,
   "id": "ae975c3b-1142-4476-9f52-fa03a49bd190",
   "metadata": {},
   "outputs": [
    {
     "data": {
      "text/plain": [
       "set()"
      ]
     },
     "execution_count": 26,
     "metadata": {},
     "output_type": "execute_result"
    }
   ],
   "source": [
    "#17.  Write a code to clear all elements from the set {1, 2, 3, 4, 5}.\n",
    "s1={1,2,3,4}\n",
    "s1.clear()\n",
    "s1"
   ]
  },
  {
   "cell_type": "code",
   "execution_count": 28,
   "id": "4a98d9bf-699a-4fa5-9f32-8764fd21f2da",
   "metadata": {},
   "outputs": [
    {
     "data": {
      "text/plain": [
       "{1, 2, 3}"
      ]
     },
     "execution_count": 28,
     "metadata": {},
     "output_type": "execute_result"
    }
   ],
   "source": [
    "#18. Write a code to remove the element 4 from the set {1, 2, 3, 4}.\n",
    "s2={1,2,3,4}\n",
    "s2.remove(4)\n",
    "s2"
   ]
  },
  {
   "cell_type": "code",
   "execution_count": 29,
   "id": "e88c8336-35d6-41b9-ab6b-2fb916d7017b",
   "metadata": {},
   "outputs": [
    {
     "data": {
      "text/plain": [
       "{1, 2, 3, 4, 5}"
      ]
     },
     "execution_count": 29,
     "metadata": {},
     "output_type": "execute_result"
    }
   ],
   "source": [
    "#19.  Write a code to find the union of two sets {1, 2, 3} and {3, 4, 5}.\n",
    "set1={1,2,3}\n",
    "set2={3,4,5}\n",
    "set1.union(set2)"
   ]
  },
  {
   "cell_type": "code",
   "execution_count": 30,
   "id": "2f7d2f35-2e08-4159-a540-ea1d8aba42ba",
   "metadata": {},
   "outputs": [
    {
     "data": {
      "text/plain": [
       "{2, 3}"
      ]
     },
     "execution_count": 30,
     "metadata": {},
     "output_type": "execute_result"
    }
   ],
   "source": [
    "#20.  Write a code to find the intersection of two sets {1, 2, 3} and {2, 3, 4}.\n",
    "set3={1,2,3}\n",
    "set4={2,3,4}\n",
    "set3.intersection(set4)"
   ]
  },
  {
   "cell_type": "code",
   "execution_count": 31,
   "id": "475daf16-116c-405a-b3de-45e199f36e27",
   "metadata": {},
   "outputs": [
    {
     "name": "stdout",
     "output_type": "stream",
     "text": [
      "{'name': 'Prince', 'age': 21, 'city': 'ahmedabad'}\n"
     ]
    }
   ],
   "source": [
    "#21. Write a code to create a dictionary with the keys \"name\", \"age\", and \"city\", and print it.\n",
    "dict_={\"name\":\"Prince\",\"age\":21,\"city\":\"ahmedabad\"}\n",
    "print(dict_)"
   ]
  },
  {
   "cell_type": "code",
   "execution_count": 37,
   "id": "c02d27c2-3490-4e34-b768-0a676f28a2f6",
   "metadata": {},
   "outputs": [
    {
     "name": "stdout",
     "output_type": "stream",
     "text": [
      "{'name': 'john', 'age': 25, 'country': 'USA'}\n"
     ]
    }
   ],
   "source": [
    "#22. Write a code to add a new key-value pair \"country\": \"USA\" to the dictionary {'name': 'John', 'age': 25}.\n",
    "dictionary={\"name\":\"john\",\"age\":25}\n",
    "dictionary[\"country\"]= (\"USA\")\n",
    "print(dictionary)"
   ]
  },
  {
   "cell_type": "code",
   "execution_count": 40,
   "id": "b7a05fb7-d979-474c-8c1c-de035def62d8",
   "metadata": {},
   "outputs": [
    {
     "data": {
      "text/plain": [
       "'Alice'"
      ]
     },
     "execution_count": 40,
     "metadata": {},
     "output_type": "execute_result"
    }
   ],
   "source": [
    "#23. Write a code to access the value associated with the key \"name\" in the dictionary {'name': 'Alice', 'age': 30}.\n",
    "d1={\"name\":\"Alice\",\"age\":30}\n",
    "d1[\"name\"]"
   ]
  },
  {
   "cell_type": "code",
   "execution_count": 43,
   "id": "12f86510-0164-4620-a0d9-c522517c44fe",
   "metadata": {},
   "outputs": [
    {
     "data": {
      "text/plain": [
       "{'name': 'Bob', 'city': 'New York'}"
      ]
     },
     "execution_count": 43,
     "metadata": {},
     "output_type": "execute_result"
    }
   ],
   "source": [
    "#24. Write a code to remove the key \"age\" from the dictionary {'name': 'Bob', 'age': 22, 'city': 'New York'}.\n",
    "d2={\"name\":\"Bob\",\"age\":22,\"city\":\"New York\"}\n",
    "d2.pop(\"age\")\n",
    "d2"
   ]
  },
  {
   "cell_type": "code",
   "execution_count": 44,
   "id": "6a5bdd49-48ec-4fa1-ab6f-29451500c5ea",
   "metadata": {},
   "outputs": [
    {
     "name": "stdout",
     "output_type": "stream",
     "text": [
      "it is in d3\n"
     ]
    }
   ],
   "source": [
    "#25. Write a code to check if the key \"city\" exists in the dictionary {'name': 'Alice', 'city': 'Paris'}.\n",
    "d3={\"name\":\"Alice\",\"city\":\"paris\"}\n",
    "if \"city\" in d3:\n",
    "    print(\"it is in d3\")\n",
    "else:\n",
    "    print(\"it is not in d3\")\n"
   ]
  },
  {
   "cell_type": "code",
   "execution_count": 47,
   "id": "231a1bf1-9d91-48a2-953d-2df3b50954d2",
   "metadata": {},
   "outputs": [
    {
     "name": "stdout",
     "output_type": "stream",
     "text": [
      "list: [1, 3, 4]\n",
      "tuple: ('prince', 'ajay', 'rahul')\n",
      "dictionary: {'name': 'prince', 'age': 21, 'city': 'ahmedabad'}\n"
     ]
    }
   ],
   "source": [
    "#26.  Write a code to create a list, a tuple, and a dictionary, and print them all.\n",
    "list=[1,3,4]\n",
    "tuple=(\"prince\",\"ajay\",\"rahul\")\n",
    "dictionary={\"name\":\"prince\",\"age\":21,\"city\":\"ahmedabad\"}\n",
    "\n",
    "print(\"list:\",list)\n",
    "print(\"tuple:\",tuple)\n",
    "print(\"dictionary:\",dictionary)"
   ]
  },
  {
   "cell_type": "code",
   "execution_count": 48,
   "id": "89290929-314f-452d-8f96-9891f2c018f0",
   "metadata": {},
   "outputs": [
    {
     "name": "stdout",
     "output_type": "stream",
     "text": [
      "Sorted list: [46, 60, 64, 76, 89]\n"
     ]
    }
   ],
   "source": [
    "#27.  Write a code to create a list of 5 random numbers between 1 and 100, sort it in ascending order, and print the result.(replaced).\n",
    "import random\n",
    "\n",
    "numbers = random.sample(range(1, 101), 5)\n",
    "numbers.sort()\n",
    "print(\"Sorted list:\", numbers)"
   ]
  },
  {
   "cell_type": "code",
   "execution_count": 49,
   "id": "70e8bd67-45ed-4897-aab3-04fd37aa4594",
   "metadata": {},
   "outputs": [
    {
     "data": {
      "text/plain": [
       "'mango'"
      ]
     },
     "execution_count": 49,
     "metadata": {},
     "output_type": "execute_result"
    }
   ],
   "source": [
    "#28.  Write a code to create a list with strings and print the element at the third index.\n",
    "fruits=[\"apple\",\"strawberry\",\"watermelon\",\"mango\",\"kiwi\"]\n",
    "fruits[3]"
   ]
  },
  {
   "cell_type": "code",
   "execution_count": 50,
   "id": "1a850699-e09c-4c06-b41d-500208d886aa",
   "metadata": {},
   "outputs": [
    {
     "name": "stdout",
     "output_type": "stream",
     "text": [
      "{'name': 'Prince', 'age': 21, 'country': 'India', 'city': 'Ahmedabad'}\n"
     ]
    }
   ],
   "source": [
    "#29. Write a code to combine two dictionaries into one and print the result.\n",
    "dict1={\"name\":\"Prince\",\"age\":21}\n",
    "dict2={\"country\":\"India\",\"city\":\"Ahmedabad\"}\n",
    "dict={**dict1,**dict2}\n",
    "print(dict)"
   ]
  },
  {
   "cell_type": "code",
   "execution_count": 2,
   "id": "e2583cf7-622a-4038-9441-c52153d14476",
   "metadata": {},
   "outputs": [
    {
     "name": "stdout",
     "output_type": "stream",
     "text": [
      "{'mango', 'banana', 'watermelon', 'guava'}\n"
     ]
    }
   ],
   "source": [
    "#30.Write a code to convert a list of strings into a set.\n",
    "fruits=[\"mango\",\"banana\",\"guava\",\"watermelon\"]\n",
    "set=set(fruits)\n",
    "print(set)"
   ]
  }
 ],
 "metadata": {
  "kernelspec": {
   "display_name": "Python 3 (ipykernel)",
   "language": "python",
   "name": "python3"
  },
  "language_info": {
   "codemirror_mode": {
    "name": "ipython",
    "version": 3
   },
   "file_extension": ".py",
   "mimetype": "text/x-python",
   "name": "python",
   "nbconvert_exporter": "python",
   "pygments_lexer": "ipython3",
   "version": "3.13.3"
  }
 },
 "nbformat": 4,
 "nbformat_minor": 5
}
